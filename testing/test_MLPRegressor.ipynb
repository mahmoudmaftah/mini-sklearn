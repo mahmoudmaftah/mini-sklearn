{
 "cells": [
  {
   "cell_type": "code",
   "execution_count": 18,
   "metadata": {},
   "outputs": [],
   "source": [
    "import sys\n",
    "sys.path.append('..')\n",
    "from neural_network.test import NeuralNetwork\n",
    "\n",
    "import numpy as np\n",
    "import matplotlib.pyplot as plt\n",
    "\n"
   ]
  },
  {
   "cell_type": "code",
   "execution_count": 34,
   "metadata": {},
   "outputs": [],
   "source": [
    "# convert y to a dataframe\n",
    "def convert_y_to_dataframe(y):\n",
    "    y_df = np.zeros((y.shape[0], 10))\n",
    "    for i in range(y.shape[0]):\n",
    "        y_df[i][y[i]] = 1\n",
    "    return y_df\n"
   ]
  },
  {
   "cell_type": "code",
   "execution_count": 35,
   "metadata": {},
   "outputs": [
    {
     "ename": "ValueError",
     "evalue": "shapes (12,8) and (120,1) not aligned: 8 (dim 1) != 120 (dim 0)",
     "output_type": "error",
     "traceback": [
      "\u001b[1;31m---------------------------------------------------------------------------\u001b[0m",
      "\u001b[1;31mValueError\u001b[0m                                Traceback (most recent call last)",
      "Cell \u001b[1;32mIn[35], line 22\u001b[0m\n\u001b[0;32m     18\u001b[0m \u001b[38;5;66;03m#Reading specific file data using CSV and cleaning it however you like. Put the data into a numpy array.\u001b[39;00m\n\u001b[0;32m     19\u001b[0m \n\u001b[0;32m     20\u001b[0m \u001b[38;5;66;03m#Change network learning paramaters to whatever you like\u001b[39;00m\n\u001b[0;32m     21\u001b[0m nn \u001b[38;5;241m=\u001b[39m NeuralNetwork(input_size, hidden_size1, output_size)\n\u001b[1;32m---> 22\u001b[0m losses \u001b[38;5;241m=\u001b[39m nn\u001b[38;5;241m.\u001b[39mtrain(X_train, convert_y_to_dataframe(y_train), epochs\u001b[38;5;241m=\u001b[39m\u001b[38;5;241m500\u001b[39m, learning_rate\u001b[38;5;241m=\u001b[39m\u001b[38;5;241m0.01\u001b[39m)\n",
      "File \u001b[1;32mc:\\Users\\mahmo\\Desktop\\mini sklearn\\Proj\\mini-sklearn\\AAMM_miniml\\testing\\..\\neural_network\\test.py:73\u001b[0m, in \u001b[0;36mNeuralNetwork.train\u001b[1;34m(self, X, y, epochs, learning_rate)\u001b[0m\n\u001b[0;32m     71\u001b[0m input_data \u001b[38;5;241m=\u001b[39m X[:, i]\u001b[38;5;241m.\u001b[39mreshape(\u001b[38;5;241m-\u001b[39m\u001b[38;5;241m1\u001b[39m, \u001b[38;5;241m1\u001b[39m)\n\u001b[0;32m     72\u001b[0m y_true \u001b[38;5;241m=\u001b[39m y[:, i]\u001b[38;5;241m.\u001b[39mreshape(\u001b[38;5;241m-\u001b[39m\u001b[38;5;241m1\u001b[39m, \u001b[38;5;241m1\u001b[39m)\n\u001b[1;32m---> 73\u001b[0m hidden_output1 \u001b[38;5;241m=\u001b[39m \u001b[38;5;28mself\u001b[39m\u001b[38;5;241m.\u001b[39mlayer1\u001b[38;5;241m.\u001b[39mforward(input_data)\n\u001b[0;32m     74\u001b[0m output_data \u001b[38;5;241m=\u001b[39m \u001b[38;5;28mself\u001b[39m\u001b[38;5;241m.\u001b[39mlayer2\u001b[38;5;241m.\u001b[39mforward(hidden_output1)\n\u001b[0;32m     75\u001b[0m loss \u001b[38;5;241m=\u001b[39m \u001b[38;5;28mself\u001b[39m\u001b[38;5;241m.\u001b[39mlayer2\u001b[38;5;241m.\u001b[39mcategorical_crossentropy_loss(y_true, output_data)\n",
      "File \u001b[1;32mc:\\Users\\mahmo\\Desktop\\mini sklearn\\Proj\\mini-sklearn\\AAMM_miniml\\testing\\..\\neural_network\\test.py:38\u001b[0m, in \u001b[0;36mLayer.forward\u001b[1;34m(self, input_data)\u001b[0m\n\u001b[0;32m     37\u001b[0m \u001b[38;5;28;01mdef\u001b[39;00m \u001b[38;5;21mforward\u001b[39m(\u001b[38;5;28mself\u001b[39m, input_data):\n\u001b[1;32m---> 38\u001b[0m     output_data \u001b[38;5;241m=\u001b[39m np\u001b[38;5;241m.\u001b[39mdot(\u001b[38;5;28mself\u001b[39m\u001b[38;5;241m.\u001b[39mweights, input_data) \u001b[38;5;241m+\u001b[39m \u001b[38;5;28mself\u001b[39m\u001b[38;5;241m.\u001b[39mbiases\n\u001b[0;32m     39\u001b[0m     \u001b[38;5;28;01mreturn\u001b[39;00m \u001b[38;5;28mself\u001b[39m\u001b[38;5;241m.\u001b[39msigmoid(output_data)\n",
      "\u001b[1;31mValueError\u001b[0m: shapes (12,8) and (120,1) not aligned: 8 (dim 1) != 120 (dim 0)"
     ]
    }
   ],
   "source": [
    "\n",
    "# we will use the iris dataset\n",
    "from sklearn.datasets import load_iris\n",
    "from sklearn.model_selection import train_test_split\n",
    "\n",
    "iris = load_iris()\n",
    "X = iris.data\n",
    "y = iris.target\n",
    "\n",
    "X_train, X_test, y_train, y_test = train_test_split(X, y, test_size=0.2)\n",
    "\n",
    "\n",
    "# we will use the neural network from the previous exercise\n",
    "#Building the Layer Sizes\n",
    "input_size = 8\n",
    "hidden_size1 = 12\n",
    "output_size = 2\n",
    "\n",
    "#Reading specific file data using CSV and cleaning it however you like. Put the data into a numpy array.\n",
    "\n",
    "#Change network learning paramaters to whatever you like\n",
    "nn = NeuralNetwork(input_size, hidden_size1, output_size)\n",
    "losses = nn.train(X_train, convert_y_to_dataframe(y_train), epochs=500, learning_rate=0.01)\n",
    "\n",
    "\n"
   ]
  },
  {
   "cell_type": "code",
   "execution_count": 17,
   "metadata": {},
   "outputs": [
    {
     "ename": "ValueError",
     "evalue": "shapes (100,4) and (120,4) not aligned: 4 (dim 1) != 120 (dim 0)",
     "output_type": "error",
     "traceback": [
      "\u001b[1;31m---------------------------------------------------------------------------\u001b[0m",
      "\u001b[1;31mValueError\u001b[0m                                Traceback (most recent call last)",
      "Cell \u001b[1;32mIn[17], line 2\u001b[0m\n\u001b[0;32m      1\u001b[0m \u001b[38;5;66;03m# we will train the model\u001b[39;00m\n\u001b[1;32m----> 2\u001b[0m mlp\u001b[38;5;241m.\u001b[39mtrain(X_train, y_train, \u001b[38;5;241m0.01\u001b[39m, \u001b[38;5;241m1000\u001b[39m)\n",
      "File \u001b[1;32mc:\\Users\\mahmo\\Desktop\\mini sklearn\\Proj\\mini-sklearn\\AAMM_miniml\\testing\\..\\neural_network\\MLPRegressor.py:85\u001b[0m, in \u001b[0;36mMLPRegressor.train\u001b[1;34m(self, X_train, y_train, learning_rate, num_epochs)\u001b[0m\n\u001b[0;32m     82\u001b[0m \u001b[38;5;28;01mdef\u001b[39;00m \u001b[38;5;21mtrain\u001b[39m(\u001b[38;5;28mself\u001b[39m, X_train, y_train, learning_rate\u001b[38;5;241m=\u001b[39m\u001b[38;5;241m0.01\u001b[39m, num_epochs\u001b[38;5;241m=\u001b[39m\u001b[38;5;241m1000\u001b[39m):\n\u001b[0;32m     83\u001b[0m     \u001b[38;5;28;01mfor\u001b[39;00m epoch \u001b[38;5;129;01min\u001b[39;00m \u001b[38;5;28mrange\u001b[39m(num_epochs):\n\u001b[0;32m     84\u001b[0m         \u001b[38;5;66;03m# Forward propagation\u001b[39;00m\n\u001b[1;32m---> 85\u001b[0m         y_pred \u001b[38;5;241m=\u001b[39m \u001b[38;5;28mself\u001b[39m\u001b[38;5;241m.\u001b[39m_forward(X_train)\n\u001b[0;32m     87\u001b[0m         \u001b[38;5;66;03m# Compute loss\u001b[39;00m\n\u001b[0;32m     88\u001b[0m         loss \u001b[38;5;241m=\u001b[39m \u001b[38;5;28mself\u001b[39m\u001b[38;5;241m.\u001b[39m_mean_squared_error(y_train, y_pred)\n",
      "File \u001b[1;32mc:\\Users\\mahmo\\Desktop\\mini sklearn\\Proj\\mini-sklearn\\AAMM_miniml\\testing\\..\\neural_network\\MLPRegressor.py:44\u001b[0m, in \u001b[0;36mMLPRegressor._forward\u001b[1;34m(self, x)\u001b[0m\n\u001b[0;32m     42\u001b[0m \u001b[38;5;66;03m# Forward propagation through hidden layers\u001b[39;00m\n\u001b[0;32m     43\u001b[0m \u001b[38;5;28;01mfor\u001b[39;00m i \u001b[38;5;129;01min\u001b[39;00m \u001b[38;5;28mrange\u001b[39m(\u001b[38;5;28mself\u001b[39m\u001b[38;5;241m.\u001b[39mnum_layers \u001b[38;5;241m-\u001b[39m \u001b[38;5;241m1\u001b[39m):\n\u001b[1;32m---> 44\u001b[0m     z \u001b[38;5;241m=\u001b[39m np\u001b[38;5;241m.\u001b[39mdot(\u001b[38;5;28mself\u001b[39m\u001b[38;5;241m.\u001b[39mweights[i], a) \u001b[38;5;241m+\u001b[39m \u001b[38;5;28mself\u001b[39m\u001b[38;5;241m.\u001b[39mbiases[i]\n\u001b[0;32m     45\u001b[0m     a \u001b[38;5;241m=\u001b[39m \u001b[38;5;28mself\u001b[39m\u001b[38;5;241m.\u001b[39m_activate(z)\n\u001b[0;32m     46\u001b[0m     \u001b[38;5;28mself\u001b[39m\u001b[38;5;241m.\u001b[39mlayer_inputs\u001b[38;5;241m.\u001b[39mappend(z)\n",
      "\u001b[1;31mValueError\u001b[0m: shapes (100,4) and (120,4) not aligned: 4 (dim 1) != 120 (dim 0)"
     ]
    }
   ],
   "source": [
    "\n",
    "# we will train the model\n",
    "mlp.train(X_train, y_train, 0.01, 1000)\n"
   ]
  },
  {
   "cell_type": "code",
   "execution_count": null,
   "metadata": {},
   "outputs": [],
   "source": []
  }
 ],
 "metadata": {
  "kernelspec": {
   "display_name": "base",
   "language": "python",
   "name": "python3"
  },
  "language_info": {
   "codemirror_mode": {
    "name": "ipython",
    "version": 3
   },
   "file_extension": ".py",
   "mimetype": "text/x-python",
   "name": "python",
   "nbconvert_exporter": "python",
   "pygments_lexer": "ipython3",
   "version": "3.11.7"
  }
 },
 "nbformat": 4,
 "nbformat_minor": 2
}
