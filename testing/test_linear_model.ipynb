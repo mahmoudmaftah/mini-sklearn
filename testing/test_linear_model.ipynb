{
 "cells": [
  {
   "cell_type": "code",
   "execution_count": 3,
   "metadata": {},
   "outputs": [],
   "source": [
    "import sys\n",
    "sys.path.append('..')"
   ]
  },
  {
   "cell_type": "code",
   "execution_count": 1,
   "metadata": {},
   "outputs": [
    {
     "name": "stdout",
     "output_type": "stream",
     "text": [
      "    Column 1  Column 2  Column 3  Column 4\n",
      "0   0.525278  0.289033  0.513321  0.324096\n",
      "1   0.387585  0.668594  0.537151  0.556066\n",
      "2   0.404309  0.639908  0.560313  0.809308\n",
      "3   0.409329  0.934666  0.014963  0.942252\n",
      "4   0.154191  0.176750  0.864096  0.390674\n",
      "..       ...       ...       ...       ...\n",
      "95  0.984009  0.220093  0.843345  0.233609\n",
      "96  0.468446  0.235100  0.709797  0.473672\n",
      "97  0.564983  0.808213  0.590617  0.194195\n",
      "98  0.836807  0.630463  0.079973  0.176491\n",
      "99  0.220749  0.359972  0.794273  0.159988\n",
      "\n",
      "[100 rows x 4 columns]\n"
     ]
    }
   ],
   "source": [
    "import numpy as np\n",
    "import pandas as pd\n",
    "\n",
    "n = 100  # Number of rows\n",
    "\n",
    "# Generate random data\n",
    "data = np.random.rand(n, 4)\n",
    "\n",
    "# Create a DataFrame\n",
    "df = pd.DataFrame(data, columns=['Column 1', 'Column 2', 'Column 3', 'Column 4'])\n",
    "\n",
    "# Print the dataset\n",
    "print(df)"
   ]
  },
  {
   "cell_type": "code",
   "execution_count": 7,
   "metadata": {},
   "outputs": [
    {
     "name": "stdout",
     "output_type": "stream",
     "text": [
      "Iteration No.:  1\n",
      "Intercept: 0.41627437684417967\n",
      "Coefficients: [ 0.17299947  0.10535916 -0.1433211 ]\n",
      "Coefficients: [[0.71222342]\n",
      " [0.15430615]\n",
      " [0.2024486 ]] 1.392906071844744\n",
      "Mean Squared Error of sklearn: 0.07856449571219366\n",
      "Mean Squared Error of sgd: 2.2093278183793625\n"
     ]
    }
   ],
   "source": [
    "from sklearn.linear_model import LinearRegression\n",
    "from linear_model.LinearRegression2 import sgd_LinearRegression, cal_LR\n",
    "from sklearn.metrics import mean_squared_error, accuracy_score\n",
    "\n",
    "# Create a Linear Regression model\n",
    "model = LinearRegression()\n",
    "\n",
    "# Train the model\n",
    "model.fit(df[['Column 1', 'Column 2', 'Column 3']], df['Column 4'])\n",
    "model2_w, model2_b = sgd_LinearRegression(df[['Column 1', 'Column 2', 'Column 3']].values, df['Column 4'].values, alpha=1, batch_size=100, max_iter=10000, tol=0.001)\n",
    "\n",
    "# Print the coefficients\n",
    "print('Intercept:', model.intercept_)\n",
    "print('Coefficients:', model.coef_)\n",
    "print('Coefficients:', model2_w, model2_b)\n",
    "\n",
    "# Predict the values\n",
    "predictions = model.predict(df[['Column 1', 'Column 2', 'Column 3']])\n",
    "predictions2 = cal_LR(X_data=df[['Column 1', 'Column 2', 'Column 3']], w=model2_w, b=model2_b)\n",
    "\n",
    "# calculate the mean squared error and accuracy\n",
    "mse = mean_squared_error(df['Column 4'], predictions)\n",
    "mse2 = mean_squared_error(df['Column 4'], predictions2)\n",
    "print('Mean Squared Error of sklearn:', mse)\n",
    "print('Mean Squared Error of sgd:', mse2)\n",
    "# print('Accuracy of sklearn:', accuracy_score(df['Column 4'], predictions))\n",
    "# print('Accuracy of sgd:', accuracy_score(df['Column 4'], predictions2))\n",
    "\n",
    "\n"
   ]
  },
  {
   "cell_type": "code",
   "execution_count": 9,
   "metadata": {},
   "outputs": [
    {
     "name": "stdout",
     "output_type": "stream",
     "text": [
      "Iteration No.:  1\n",
      "Intercept: 0.10768974145972954\n",
      "Coefficients: [-0.08780565 -0.05290886  0.2095993   0.63644122]\n",
      "Coefficients: [[ 0.01499403]\n",
      " [ 0.08273638]\n",
      " [-0.23346921]\n",
      " [ 0.41373087]] 0.7528678360309954\n",
      "Mean Squared Error of sklearn: 0.04894245319778313\n",
      "Mean Squared Error of sgd: 1.0690278963695719\n",
      "Mean Squared Error of sklearn: 0.046225815307001684\n",
      "Mean Squared Error of sgd: 0.8907846145109981\n"
     ]
    }
   ],
   "source": [
    "from sklearn.datasets import load_iris\n",
    "from sklearn.model_selection import train_test_split\n",
    "\n",
    "# Load the iris dataset\n",
    "iris = load_iris()\n",
    "X = iris.data\n",
    "y = iris.target\n",
    "\n",
    "# Split the dataset into training and test sets\n",
    "X_train, X_test, y_train, y_test = train_test_split(X, y, test_size=0.2)\n",
    "\n",
    "# Create a Linear Regression model\n",
    "model = LinearRegression()\n",
    "\n",
    "# Train the model\n",
    "model.fit(X_train, y_train)\n",
    "model2_w, model2_b = sgd_LinearRegression(X_train, y_train, alpha=0.01, batch_size=100, max_iter=10000, tol=0.001)\n",
    "\n",
    "# Print the coefficients\n",
    "print('Intercept:', model.intercept_)\n",
    "print('Coefficients:', model.coef_)\n",
    "print('Coefficients:', model2_w, model2_b)\n",
    "\n",
    "# Predict the values\n",
    "predictions = model.predict(X_test)\n",
    "predictions2 = cal_LR(X_data=X_test, w=model2_w, b=model2_b)\n",
    "\n",
    "# calculate the mean squared error and accuracy\n",
    "mse = mean_squared_error(y_test, predictions)\n",
    "mse2 = mean_squared_error(y_test, predictions2)\n",
    "\n",
    "print('Mean Squared Error of sklearn:', mse)\n",
    "print('Mean Squared Error of sgd:', mse2)\n",
    "\n",
    "# print('Accuracy of sklearn:', accuracy_score(y_test, predictions))\n",
    "# print('Accuracy of sgd:', accuracy_score(y_test, predictions2))\n",
    "\n",
    "# predict the training set\n",
    "predictions = model.predict(X_train)\n",
    "predictions2 = cal_LR(X_data=X_train, w=model2_w, b=model2_b)\n",
    "\n",
    "# calculate the mean squared error and accuracy\n",
    "mse = mean_squared_error(y_train, predictions)\n",
    "mse2 = mean_squared_error(y_train, predictions2)\n",
    "\n",
    "print('Mean Squared Error of sklearn:', mse)\n",
    "print('Mean Squared Error of sgd:', mse2)\n",
    "\n",
    "# print('Accuracy of sklearn:', accuracy_score(y_train, predictions))\n",
    "# print('Accuracy of sgd:', accuracy_score(y_train, predictions2))"
   ]
  },
  {
   "cell_type": "code",
   "execution_count": null,
   "metadata": {},
   "outputs": [],
   "source": []
  }
 ],
 "metadata": {
  "kernelspec": {
   "display_name": "ds_ci1",
   "language": "python",
   "name": "python3"
  },
  "language_info": {
   "codemirror_mode": {
    "name": "ipython",
    "version": 3
   },
   "file_extension": ".py",
   "mimetype": "text/x-python",
   "name": "python",
   "nbconvert_exporter": "python",
   "pygments_lexer": "ipython3",
   "version": "3.11.7"
  }
 },
 "nbformat": 4,
 "nbformat_minor": 2
}
