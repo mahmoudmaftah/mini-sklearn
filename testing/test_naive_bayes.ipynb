{
 "cells": [
  {
   "cell_type": "code",
   "execution_count": 1,
   "metadata": {},
   "outputs": [],
   "source": [
    "import sys\n",
    "sys.path.append('..')"
   ]
  },
  {
   "cell_type": "code",
   "execution_count": 3,
   "metadata": {},
   "outputs": [
    {
     "name": "stdout",
     "output_type": "stream",
     "text": [
      "Scikit-learn accuracy: 0.9666666666666667\n",
      "Scikit-learn mean squared error: 0.03333333333333333\n",
      "Custom accuracy: 0.3333333333333333\n",
      "Custom mean squared error: 1.7666666666666666\n",
      "Custom accuracy on train data: 0.3333333333333333\n"
     ]
    },
    {
     "name": "stderr",
     "output_type": "stream",
     "text": [
      "d:\\OneDrive - Université Mohammed VI Polytechnique\\.S2\\CSCI-M123 AI 1 (Data Science)\\Project\\SKL\\mini-sklearn\\AAMM_miniml\\testing\\..\\naive_bayes\\NaiveBayesClassifier.py:56: RuntimeWarning: divide by zero encountered in log\n",
      "  posterior += np.log(prob)\n",
      "d:\\OneDrive - Université Mohammed VI Polytechnique\\.S2\\CSCI-M123 AI 1 (Data Science)\\Project\\SKL\\mini-sklearn\\AAMM_miniml\\testing\\..\\naive_bayes\\NaiveBayesClassifier.py:56: RuntimeWarning: divide by zero encountered in log\n",
      "  posterior += np.log(prob)\n"
     ]
    }
   ],
   "source": [
    "from sklearn.datasets import load_iris\n",
    "from sklearn.model_selection import train_test_split\n",
    "from sklearn.metrics import accuracy_score\n",
    "from sklearn.metrics import mean_squared_error\n",
    "\n",
    "from sklearn.naive_bayes import CategoricalNB\n",
    "from naive_bayes.NaiveBayesClassifier import NaiveBayesClassifier\n",
    "\n",
    "# Load the iris dataset\n",
    "iris = load_iris()\n",
    "X = iris.data\n",
    "y = iris.target\n",
    "\n",
    "# Split the dataset into training and test sets\n",
    "X_train, X_test, y_train, y_test = train_test_split(X, y, test_size=0.2, random_state=42)\n",
    "\n",
    "# Train the scikit-learn model\n",
    "model = CategoricalNB()\n",
    "model.fit(X_train, y_train)\n",
    "y_pred = model.predict(X_test)\n",
    "print('Scikit-learn accuracy:', accuracy_score(y_test, y_pred))\n",
    "print('Scikit-learn mean squared error:', mean_squared_error(y_test, y_pred))\n",
    "\n",
    "# Train the custom model\n",
    "model = NaiveBayesClassifier()\n",
    "model.fit(X_train, y_train)\n",
    "y_pred = model.predict(X_test)\n",
    "print('Custom accuracy:', accuracy_score(y_test, y_pred))\n",
    "print('Custom mean squared error:', mean_squared_error(y_test, y_pred))\n",
    "\n",
    "# predict train data\n",
    "y_pred = model.predict(X_train)\n",
    "print('Custom accuracy on train data:', accuracy_score(y_train, y_pred))\n",
    "\n"
   ]
  },
  {
   "cell_type": "code",
   "execution_count": 5,
   "metadata": {},
   "outputs": [
    {
     "name": "stdout",
     "output_type": "stream",
     "text": [
      "Custom accuracy: 1.0\n",
      "Custom mean squared error: 0.0\n"
     ]
    },
    {
     "name": "stderr",
     "output_type": "stream",
     "text": [
      "d:\\OneDrive - Université Mohammed VI Polytechnique\\.S2\\CSCI-M123 AI 1 (Data Science)\\Project\\SKL\\mini-sklearn\\AAMM_miniml\\testing\\..\\naive_bayes\\GaussianNB.py:7: VisibleDeprecationWarning: Creating an ndarray from ragged nested sequences (which is a list-or-tuple of lists-or-tuples-or ndarrays with different lengths or shapes) is deprecated. If you meant to do this, you must specify 'dtype=object' when creating the ndarray.\n",
      "  self.x_classes = np.array([np.unique(x) for x in X.T])\n"
     ]
    }
   ],
   "source": [
    "from naive_bayes.GaussianNB import GaussianNB\n",
    "# Train the custom model\n",
    "model = GaussianNB()\n",
    "model = model.fit(X_train, y_train)\n",
    "\n",
    "y_pred = model.predict(X_test)\n",
    "\n",
    "print('Custom accuracy:', accuracy_score(y_test, y_pred))\n",
    "print('Custom mean squared error:', mean_squared_error(y_test, y_pred))"
   ]
  },
  {
   "cell_type": "code",
   "execution_count": 6,
   "metadata": {},
   "outputs": [
    {
     "name": "stdout",
     "output_type": "stream",
     "text": [
      "Scikit-learn accuracy: 1.0\n",
      "Scikit-learn mean squared error: 0.0\n"
     ]
    }
   ],
   "source": [
    "from sklearn.naive_bayes import GaussianNB as GaussianNB_sklearn\n",
    "model = GaussianNB_sklearn()\n",
    "model = model.fit(X_train, y_train)\n",
    "y_pred = model.predict(X_test)\n",
    "print('Scikit-learn accuracy:', accuracy_score(y_test, y_pred))\n",
    "print('Scikit-learn mean squared error:', mean_squared_error(y_test, y_pred))\n"
   ]
  },
  {
   "cell_type": "code",
   "execution_count": null,
   "metadata": {},
   "outputs": [],
   "source": []
  }
 ],
 "metadata": {
  "kernelspec": {
   "display_name": "ds_ci1",
   "language": "python",
   "name": "python3"
  },
  "language_info": {
   "codemirror_mode": {
    "name": "ipython",
    "version": 3
   },
   "file_extension": ".py",
   "mimetype": "text/x-python",
   "name": "python",
   "nbconvert_exporter": "python",
   "pygments_lexer": "ipython3",
   "version": "3.11.7"
  }
 },
 "nbformat": 4,
 "nbformat_minor": 2
}
